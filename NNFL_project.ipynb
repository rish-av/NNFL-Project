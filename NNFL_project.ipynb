{
 "cells": [
  {
   "cell_type": "code",
   "execution_count": 3,
   "metadata": {},
   "outputs": [],
   "source": [
    "import scipy.io as io\n",
    "import numpy as np"
   ]
  },
  {
   "cell_type": "code",
   "execution_count": 4,
   "metadata": {},
   "outputs": [],
   "source": [
    "data = io.loadmat('PaviaU.mat')"
   ]
  },
  {
   "cell_type": "code",
   "execution_count": 5,
   "metadata": {},
   "outputs": [],
   "source": [
    "dataset = data['paviaU']"
   ]
  },
  {
   "cell_type": "code",
   "execution_count": 6,
   "metadata": {},
   "outputs": [],
   "source": [
    "labels = io.loadmat('PaviaU_gt.mat')"
   ]
  },
  {
   "cell_type": "code",
   "execution_count": 7,
   "metadata": {},
   "outputs": [],
   "source": [
    "gt_labels = labels['paviaU_gt']"
   ]
  },
  {
   "cell_type": "code",
   "execution_count": 8,
   "metadata": {},
   "outputs": [
    {
     "name": "stdout",
     "output_type": "stream",
     "text": [
      "[ 647  499  464  371  291  319  365  322  296  305  277  219  219  222\n",
      "  201  162  157  183  204  194  198  216  249  284  294  322  338  342\n",
      "  336  342  362  365  348  341  324  316  293  274  251  244  263  248\n",
      "  236  254  255  240  223  203  202  191  185  200  203  181  168  174\n",
      "  185  187  165  151  144  140  149  169  192  227  287  376  493  633\n",
      "  763  913 1149 1442 1759 2102 2425 2689 2895 3058 3196 3252 3195 3297\n",
      " 3542 3550 3537 3545 3514 3477 3468 3433 3408 3420 3416 3335 3256 3226\n",
      " 3205 3210 3221 3238 3250]\n",
      "0\n"
     ]
    }
   ],
   "source": [
    "print(dataset[0][0])\n",
    "print(gt_labels[0][0])"
   ]
  },
  {
   "cell_type": "code",
   "execution_count": 9,
   "metadata": {},
   "outputs": [
    {
     "name": "stdout",
     "output_type": "stream",
     "text": [
      "610 340 103\n"
     ]
    }
   ],
   "source": [
    "(x,y,z) = dataset.shape\n",
    "print(x,y,z)"
   ]
  },
  {
   "cell_type": "code",
   "execution_count": 12,
   "metadata": {},
   "outputs": [],
   "source": [
    "for i in range(x):\n",
    "    for j in range(y):\n",
    "        l = gt_labels[i][j]\n",
    "        if l!=0:\n",
    "            a[l].append(np.array(dataset[i][j]))"
   ]
  },
  {
   "cell_type": "code",
   "execution_count": 11,
   "metadata": {},
   "outputs": [],
   "source": [
    "a = {x:[] for x in range(1,10)}"
   ]
  },
  {
   "cell_type": "code",
   "execution_count": 13,
   "metadata": {},
   "outputs": [
    {
     "name": "stdout",
     "output_type": "stream",
     "text": [
      "6631\n",
      "18649\n",
      "2099\n",
      "3064\n",
      "1345\n",
      "5029\n",
      "1330\n",
      "3682\n",
      "947\n"
     ]
    }
   ],
   "source": [
    "for i in range(1,10):\n",
    "    print(len(a[i]))"
   ]
  },
  {
   "cell_type": "code",
   "execution_count": 14,
   "metadata": {},
   "outputs": [
    {
     "name": "stderr",
     "output_type": "stream",
     "text": [
      "Using TensorFlow backend.\n"
     ]
    }
   ],
   "source": [
    "from keras.models import Sequential\n",
    "from keras.layers import Dense, Conv2D , Flatten, MaxPooling2D"
   ]
  },
  {
   "cell_type": "code",
   "execution_count": 28,
   "metadata": {},
   "outputs": [
    {
     "name": "stdout",
     "output_type": "stream",
     "text": [
      "_________________________________________________________________\n",
      "Layer (type)                 Output Shape              Param #   \n",
      "=================================================================\n",
      "conv2d_2 (Conv2D)            (None, 93, 1, 20)         240       \n",
      "_________________________________________________________________\n",
      "max_pooling2d_2 (MaxPooling2 (None, 31, 1, 20)         0         \n",
      "_________________________________________________________________\n",
      "flatten_2 (Flatten)          (None, 620)               0         \n",
      "_________________________________________________________________\n",
      "dense_3 (Dense)              (None, 100)               62100     \n",
      "_________________________________________________________________\n",
      "dense_4 (Dense)              (None, 9)                 909       \n",
      "=================================================================\n",
      "Total params: 63,249\n",
      "Trainable params: 63,249\n",
      "Non-trainable params: 0\n",
      "_________________________________________________________________\n"
     ]
    }
   ],
   "source": [
    "model = Sequential()\n",
    "model.add(Conv2D(20, kernel_size=(11,1), activation='relu', input_shape=(103,1,1)))\n",
    "model.add(MaxPooling2D(pool_size = (3,1)))\n",
    "model.add(Flatten())\n",
    "model.add(Dense(100,activation='relu'))\n",
    "model.add(Dense(9,activation = 'softmax'))\n",
    "model.summary()"
   ]
  },
  {
   "cell_type": "code",
   "execution_count": 29,
   "metadata": {},
   "outputs": [],
   "source": [
    "y_train = []\n",
    "train = []\n",
    "for i in range(1,10):\n",
    "    for j in range(200):\n",
    "        train.append(a[i][j])\n",
    "        y_train.append(i)\n",
    "train = np.array(train)\n",
    "y_train = np.array(y_train)"
   ]
  },
  {
   "cell_type": "code",
   "execution_count": 30,
   "metadata": {},
   "outputs": [],
   "source": [
    "y_test = []\n",
    "test = []\n",
    "for i in range(1,10):\n",
    "    for j in range(200,len(a[i])):\n",
    "        test.append(a[i][j])\n",
    "        y_test.append(i)\n",
    "test = np.array(test)\n",
    "y_test = np.array(y_test)"
   ]
  },
  {
   "cell_type": "code",
   "execution_count": 31,
   "metadata": {},
   "outputs": [],
   "source": [
    "test = test.reshape(len(test),103,1,1)"
   ]
  },
  {
   "cell_type": "code",
   "execution_count": 32,
   "metadata": {},
   "outputs": [],
   "source": [
    "train = train.reshape(len(train),103,1,1)"
   ]
  },
  {
   "cell_type": "code",
   "execution_count": 33,
   "metadata": {},
   "outputs": [],
   "source": [
    "from keras.utils import to_categorical"
   ]
  },
  {
   "cell_type": "code",
   "execution_count": 34,
   "metadata": {},
   "outputs": [],
   "source": [
    "y_train = to_categorical(y_train)\n",
    "y_test = to_categorical(y_test)"
   ]
  },
  {
   "cell_type": "code",
   "execution_count": 35,
   "metadata": {},
   "outputs": [],
   "source": [
    "y_train = y_train[:,1:]\n",
    "y_test = y_test[:,1:]"
   ]
  },
  {
   "cell_type": "code",
   "execution_count": 36,
   "metadata": {},
   "outputs": [],
   "source": [
    "model.compile(optimizer='adam',loss='categorical_crossentropy',metrics = ['accuracy'])"
   ]
  },
  {
   "cell_type": "code",
   "execution_count": 38,
   "metadata": {},
   "outputs": [
    {
     "name": "stdout",
     "output_type": "stream",
     "text": [
      "Train on 40976 samples, validate on 1800 samples\n",
      "Epoch 1/5\n",
      "40976/40976 [==============================] - 5s 117us/step - loss: 8.8611 - acc: 0.4502 - val_loss: 14.3272 - val_acc: 0.1111\n",
      "Epoch 2/5\n",
      "40976/40976 [==============================] - 5s 116us/step - loss: 8.8611 - acc: 0.4502 - val_loss: 14.3272 - val_acc: 0.1111\n",
      "Epoch 3/5\n",
      "40976/40976 [==============================] - 5s 116us/step - loss: 8.8611 - acc: 0.4502 - val_loss: 14.3272 - val_acc: 0.1111\n",
      "Epoch 4/5\n",
      "40976/40976 [==============================] - 5s 119us/step - loss: 8.8611 - acc: 0.4502 - val_loss: 14.3272 - val_acc: 0.1111\n",
      "Epoch 5/5\n",
      "40976/40976 [==============================] - 5s 118us/step - loss: 8.8611 - acc: 0.4502 - val_loss: 14.3272 - val_acc: 0.1111\n"
     ]
    },
    {
     "data": {
      "text/plain": [
       "<keras.callbacks.History at 0x7efb84378668>"
      ]
     },
     "execution_count": 38,
     "metadata": {},
     "output_type": "execute_result"
    }
   ],
   "source": [
    "model.fit(test,y_test,validation_data = (train,y_train),epochs = 5)"
   ]
  },
  {
   "cell_type": "code",
   "execution_count": 27,
   "metadata": {},
   "outputs": [
    {
     "name": "stdout",
     "output_type": "stream",
     "text": [
      "[2547]\n"
     ]
    }
   ],
   "source": [
    "m = 0\n",
    "for i in range(200,400):\n",
    "    temp = max(train[i].reshape(103,1))\n",
    "    if temp>m:\n",
    "        m = temp\n",
    "print(m)"
   ]
  },
  {
   "cell_type": "code",
   "execution_count": 2,
   "metadata": {},
   "outputs": [],
   "source": []
  },
  {
   "cell_type": "code",
   "execution_count": null,
   "metadata": {},
   "outputs": [],
   "source": []
  }
 ],
 "metadata": {
  "kernelspec": {
   "display_name": "Python 3",
   "language": "python",
   "name": "python3"
  },
  "language_info": {
   "codemirror_mode": {
    "name": "ipython",
    "version": 3
   },
   "file_extension": ".py",
   "mimetype": "text/x-python",
   "name": "python",
   "nbconvert_exporter": "python",
   "pygments_lexer": "ipython3",
   "version": "3.6.5"
  }
 },
 "nbformat": 4,
 "nbformat_minor": 2
}
